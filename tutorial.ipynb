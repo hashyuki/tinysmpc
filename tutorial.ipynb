{
 "cells": [
  {
   "cell_type": "markdown",
   "metadata": {},
   "source": [
    "# TinySMPC Tutorial\n",
    "\n",
    "このチュートリアルでは、TinySMPCを使用して、安全なマルチパーティ計算の基本を説明します。\n",
    "\n",
    "[セキュア・マルチパーティ計算](https://en.wikipedia.org/wiki/Secure_multi-party_computation) (SMPC)とは、複数の人が関数を計算できるようにする暗号技術で、関数そのものとその出力は公開されるが、入力は各人に非公開にされる。\n",
    "\n",
    "簡単な例：友人グループが、個人の銀行残高を明らかにすることなく、グループの所有するお金の合計を計算したい。"
   ]
  },
  {
   "cell_type": "markdown",
   "metadata": {},
   "source": [
    "## Setup\n",
    "\n",
    "必要な3つのクラスだけをTinySMPCからインポートしよう。\n",
    "\n",
    "TinySMPCは理解しやすいようにバニラPythonで書かれているので、外部モジュールは必要ない！"
   ]
  },
  {
   "cell_type": "code",
   "execution_count": 1,
   "metadata": {},
   "outputs": [],
   "source": [
    "from tinysmpc import VirtualMachine, PrivateScalar, SharedScalar"
   ]
  },
  {
   "cell_type": "markdown",
   "metadata": {},
   "source": [
    "## Creating Multiple Machines\n",
    "\n",
    "まず、いくつかの `VirtualMachine` を作成しよう。\n",
    "\n",
    "`VirtualMachine`はユーザのプライベートなコンピュータを表し、他のユーザに知られてはいけないデータが格納されている。"
   ]
  },
  {
   "cell_type": "code",
   "execution_count": 2,
   "metadata": {},
   "outputs": [],
   "source": [
    "alice = VirtualMachine('alice')\n",
    "bob = VirtualMachine('bob')\n",
    "charlie = VirtualMachine('charlie')"
   ]
  },
  {
   "cell_type": "markdown",
   "metadata": {},
   "source": [
    "Alice、Bob、Charlieを、あるネットワーク上で通信できる完全に独立したコンピュータと考える。\n",
    "\n",
    "(簡単にするため、`VirtualMachines`はシミュレートされ、すべてこのノートブックカーネルでローカルに実行されます)。\n",
    "\n",
    "次に、それぞれのコンピュータにプライベートデータを作りましょう。"
   ]
  },
  {
   "cell_type": "markdown",
   "metadata": {},
   "source": [
    "## Generating Private Data\n",
    "\n",
    "コンピュータ上のプライベートデータは `PrivateScalar` オブジェクトで表現される。これらの数字は各人の銀行残高だと考えてほしい。"
   ]
  },
  {
   "cell_type": "code",
   "execution_count": 3,
   "metadata": {},
   "outputs": [],
   "source": [
    "a = PrivateScalar(40000, alice)\n",
    "b = PrivateScalar(15000, bob)\n",
    "c = PrivateScalar(-20000, charlie)  # Charlie is heavily in debt"
   ]
  },
  {
   "cell_type": "markdown",
   "metadata": {},
   "source": [
    "アリスは自分の残高しか見ることができず、ボブとチャーリーの残高を見ることはできない。\n",
    "\n",
    "このことは、アリスのコンピュータの中身を見ることで確認できる。(`alice`と表示すればいい！)"
   ]
  },
  {
   "cell_type": "code",
   "execution_count": 4,
   "metadata": {},
   "outputs": [
    {
     "data": {
      "text/plain": [
       "VirtualMachine('alice')\n",
       " - PrivateScalar(40000, 'alice')"
      ]
     },
     "execution_count": 4,
     "metadata": {},
     "output_type": "execute_result"
    }
   ],
   "source": [
    "alice"
   ]
  },
  {
   "cell_type": "markdown",
   "metadata": {},
   "source": [
    "見てわかるように、アリスのコンピュータには自分の給料を表す`PrivateScalar`しか入っていない。\n",
    "\n",
    "これはボブとチャーリーのコンピュータも同じです。"
   ]
  },
  {
   "cell_type": "code",
   "execution_count": 5,
   "metadata": {},
   "outputs": [
    {
     "data": {
      "text/plain": [
       "VirtualMachine('bob')\n",
       " - PrivateScalar(15000, 'bob')"
      ]
     },
     "execution_count": 5,
     "metadata": {},
     "output_type": "execute_result"
    }
   ],
   "source": [
    "bob"
   ]
  },
  {
   "cell_type": "code",
   "execution_count": 6,
   "metadata": {},
   "outputs": [
    {
     "data": {
      "text/plain": [
       "VirtualMachine('charlie')\n",
       " - PrivateScalar(-20000, 'charlie')"
      ]
     },
     "execution_count": 6,
     "metadata": {},
     "output_type": "execute_result"
    }
   ],
   "source": [
    "charlie"
   ]
  },
  {
   "cell_type": "markdown",
   "metadata": {},
   "source": [
    "次に、これらのプライベート値に対してパブリック関数を計算する方法を見てみよう。"
   ]
  },
  {
   "cell_type": "markdown",
   "metadata": {},
   "source": [
    "## Secret Sharing\n",
    "\n",
    "アリス、ボブ、チャーリーの3人が、それぞれの銀行残高の合計を、誰にも知られずに計算したいとしよう。\n",
    "\n",
    "これはまさに安全なマルチパーティ計算（SMPC）のために作られたものである。秘密分散」と呼ばれる技術は、[ほとんどの](https://crypto.stackexchange.com/questions/80764/is-there-a-secure-multi-party-computation-smpc-scheme-that-doesnt-use-secret) SMPCスキームの基本的な構成要素である。\n",
    "\n",
    "秘密分散を行うには、`PrivateScalar`に対して `.share()` を呼び出します。"
   ]
  },
  {
   "cell_type": "code",
   "execution_count": 7,
   "metadata": {},
   "outputs": [
    {
     "data": {
      "text/plain": [
       "SharedScalar\n",
       " - Share(3580162322096350479, 'alice', Q=None)\n",
       " - Share(-7552183910951222324, 'bob', Q=None)\n",
       " - Share(3972021588854911845, 'charlie', Q=None)"
      ]
     },
     "execution_count": 7,
     "metadata": {},
     "output_type": "execute_result"
    }
   ],
   "source": [
    "shared_a = a.share([alice, bob, charlie])\n",
    "shared_a"
   ]
  },
  {
   "cell_type": "markdown",
   "metadata": {},
   "source": [
    "何が起こったのか？\n",
    "\n",
    "まず、TinySMPCは加算秘密分散と呼ばれるテクニックを使って、暗号化された `a` の「シェア」を3つ生成した。上で見たように、各シェアは乱数のように見え、どのシェア（またはどの2つのシェア）からも`a`の真の値を見つけることは確かに不可能です。\n",
    "\n",
    "次に、暗号化された共有をそれぞれのコンピュータに送りました。ボブのマシンを見ると、彼は新しい`Share`オブジェクト（アリスが彼に送ったもの）を所有しています。"
   ]
  },
  {
   "cell_type": "code",
   "execution_count": 8,
   "metadata": {},
   "outputs": [
    {
     "data": {
      "text/plain": [
       "VirtualMachine('bob')\n",
       " - PrivateScalar(15000, 'bob')\n",
       " - Share(-7552183910951222324, 'bob', Q=None)"
      ]
     },
     "execution_count": 8,
     "metadata": {},
     "output_type": "execute_result"
    }
   ],
   "source": [
    "bob"
   ]
  },
  {
   "cell_type": "markdown",
   "metadata": {},
   "source": [
    "元の値 `a` に対応するすべての共有は `SharedScalar` オブジェクトで追跡される。\n",
    "\n",
    "値 `a` を再構築するには、アリス、ボブ、チャーリーから3つの共有を持ってくる必要があります。\n",
    "\n",
    "これは `SharedScalar` に対して `.reconstruct()` を呼び出すことで簡単に行うことができます。"
   ]
  },
  {
   "cell_type": "code",
   "execution_count": 9,
   "metadata": {},
   "outputs": [
    {
     "data": {
      "text/plain": [
       "PrivateScalar(40000, 'alice')"
      ]
     },
     "execution_count": 9,
     "metadata": {},
     "output_type": "execute_result"
    }
   ],
   "source": [
    "shared_a.reconstruct(alice)"
   ]
  },
  {
   "cell_type": "markdown",
   "metadata": {},
   "source": [
    "裏では、TinySMPCはすべてのシェアをアリスに送り、`a`の元の値を再構築している。これは `.share()` の逆である。\n",
    "\n",
    "これで加法的秘密共有の使い方がわかった。しかしこれだけではあまり役に立たないので、次は共有を使って計算を行う方法を見てみましょう。\n",
    "\n",
    "(共有の生成と再構築の方法について興味があれば、[secret_sharing.py](https://github.com/kennysong/tinysmpc/blob/master/tinysmpc/secret_sharing.py)を参照してください)"
   ]
  },
  {
   "cell_type": "markdown",
   "metadata": {},
   "source": [
    "## Basic Computation\n",
    "\n",
    "加法的秘密共有スキームの不思議な特性は、暗号化された共有に対して直接演算ができることである！\n",
    "\n",
    "これにより、安全な多人数計算における「計算」が可能になる。暗号化された`SharedScalar`で足し算をしてみよう。"
   ]
  },
  {
   "cell_type": "code",
   "execution_count": 10,
   "metadata": {},
   "outputs": [
    {
     "data": {
      "text/plain": [
       "PrivateScalar(45000, 'alice')"
      ]
     },
     "execution_count": 10,
     "metadata": {},
     "output_type": "execute_result"
    }
   ],
   "source": [
    "shared_a = a.share([alice, bob, charlie])\n",
    "shared_a = shared_a + 5000\n",
    "shared_a.reconstruct(alice)"
   ]
  },
  {
   "cell_type": "markdown",
   "metadata": {},
   "source": [
    "うまくいった！暗号化された `SharedScalar` に直接 `5000` を追加したのですが、元の値に直接 `5000` を追加したのと同じ数値に復号化されたことに注意してください。\n",
    "\n",
    "これを行うために、特別な演算プロトコルを各共有に直接適用した。面白いので、共有の値を直接調べてみよう。"
   ]
  },
  {
   "cell_type": "code",
   "execution_count": 11,
   "metadata": {},
   "outputs": [
    {
     "name": "stdout",
     "output_type": "stream",
     "text": [
      "Shares before adding 5000:\n",
      "SharedScalar\n",
      " - Share(-1228246268775828375, 'alice', Q=None)\n",
      " - Share(-5759674299707637981, 'bob', Q=None)\n",
      " - Share(6987920568483506356, 'charlie', Q=None)\n",
      "\n",
      "Shares after adding 5000:\n",
      "SharedScalar\n",
      " - Share(-1228246268775823375, 'alice', Q=None)\n",
      " - Share(-5759674299707637981, 'bob', Q=None)\n",
      " - Share(6987920568483506356, 'charlie', Q=None)\n"
     ]
    }
   ],
   "source": [
    "shared_a = a.share([alice, bob, charlie])\n",
    "print('Shares before adding 5000:')\n",
    "print(shared_a)\n",
    "\n",
    "shared_a = shared_a + 5000\n",
    "print('\\nShares after adding 5000:')\n",
    "print(shared_a)"
   ]
  },
  {
   "cell_type": "markdown",
   "metadata": {},
   "source": [
    "じっくり見ていると、最初の共有の暗号化された値に `5000` を直接追加しているのがわかるでしょう。\n",
    "\n",
    "これはとても簡単で、[shared_addition.py](/tinysmpc/shared_addition.py)で実装を見ることができます。`SharedScalar`と(publicな)整数との足し算の他に、`SharedScalar`同士の足し算もできます。\n",
    "\n",
    "このようにして、全員の銀行残高の合計を安全に計算することができます。"
   ]
  },
  {
   "cell_type": "code",
   "execution_count": 12,
   "metadata": {},
   "outputs": [
    {
     "data": {
      "text/plain": [
       "PrivateScalar(35000, 'bob')"
      ]
     },
     "execution_count": 12,
     "metadata": {},
     "output_type": "execute_result"
    }
   ],
   "source": [
    "shared_a = a.share([alice, bob, charlie])\n",
    "shared_b = b.share([alice, bob, charlie])\n",
    "shared_c = c.share([alice, bob, charlie])\n",
    "\n",
    "shared_sum = shared_a + shared_b + shared_c\n",
    "shared_sum.reconstruct(bob)"
   ]
  },
  {
   "cell_type": "code",
   "execution_count": 13,
   "metadata": {},
   "outputs": [
    {
     "data": {
      "text/plain": [
       "PrivateScalar(55000, 'charlie')"
      ]
     },
     "execution_count": 13,
     "metadata": {},
     "output_type": "execute_result"
    }
   ],
   "source": [
    "shared_sum = shared_a + shared_b\n",
    "shared_sum.reconstruct(charlie)"
   ]
  },
  {
   "cell_type": "markdown",
   "metadata": {},
   "source": [
    "ここでは、全員が所有するお金の合計を計算し、その結果の合計をボブに送った（ボブはその合計を「公に」共有することができる）。\n",
    "\n",
    "足し算は暗号化された`SharedScalars`の間で直接行われ、誰も他の人の秘密の値を見ることはない！\n",
    "\n",
    "次に、より高度な計算（乗算、比較、浮動小数点数など）の方法を見てみよう。"
   ]
  },
  {
   "cell_type": "markdown",
   "metadata": {},
   "source": [
    "## Advanced Computation\n",
    "\n",
    "足し算は楽しいが、SMPCを使えばもっと複雑な関数も計算できる。"
   ]
  },
  {
   "cell_type": "markdown",
   "metadata": {},
   "source": [
    "### Multiplication\n",
    "\n",
    "掛け算を試してみよう："
   ]
  },
  {
   "cell_type": "code",
   "execution_count": 14,
   "metadata": {},
   "outputs": [
    {
     "data": {
      "text/plain": [
       "PrivateScalar(-100, 'alice')"
      ]
     },
     "execution_count": 14,
     "metadata": {},
     "output_type": "execute_result"
    }
   ],
   "source": [
    "shared_a = PrivateScalar(5, alice).share([alice, bob])\n",
    "shared_b = PrivateScalar(-10, bob).share([alice, bob])\n",
    "\n",
    "shared_prod = 2 * shared_b * shared_a\n",
    "shared_prod.reconstruct(alice)"
   ]
  },
  {
   "cell_type": "markdown",
   "metadata": {},
   "source": [
    "### Exponentiation\n",
    "\n",
    "指数も同様に機能する（指数に公開整数を使用）："
   ]
  },
  {
   "cell_type": "code",
   "execution_count": 15,
   "metadata": {},
   "outputs": [
    {
     "name": "stdout",
     "output_type": "stream",
     "text": [
      "PrivateScalar(10000, 'alice')\n",
      "PrivateScalar(-1000000, 'bob')\n"
     ]
    }
   ],
   "source": [
    "shared_exp1 = shared_prod ** 2\n",
    "shared_exp2 = shared_prod ** 3\n",
    "\n",
    "print(shared_exp1.reconstruct(alice))\n",
    "print(shared_exp2.reconstruct(bob))"
   ]
  },
  {
   "cell_type": "markdown",
   "metadata": {},
   "source": [
    "### Comparison\n",
    "\n",
    "公開整数との比較もできる："
   ]
  },
  {
   "cell_type": "code",
   "execution_count": 16,
   "metadata": {},
   "outputs": [
    {
     "name": "stdout",
     "output_type": "stream",
     "text": [
      "PrivateScalar(1, 'p2')\n",
      "PrivateScalar(0, 'p2')\n"
     ]
    }
   ],
   "source": [
    "print(shared_exp1 > 9999)\n",
    "print(shared_exp2 > -999999)"
   ]
  },
  {
   "cell_type": "markdown",
   "metadata": {},
   "source": [
    "(注意: ここで使用する SecureNN 比較アルゴリズムの詳細により、比較の出力はエフェメラルな `VirtualMachine` 上のブール値 `PrivateScalar` になります。ブール値は `.value` にアクセスすることで取得できます。どのように動作するかは、[shared_comparison.py](https://github.com/kennysong/tinysmpc/blob/master/tinysmpc/shared_comparison.py) を参照してください)。\n",
    "\n",
    "これを利用して `SharedScalars` に ReLU 関数を実装できる可能性があります："
   ]
  },
  {
   "cell_type": "code",
   "execution_count": 17,
   "metadata": {},
   "outputs": [
    {
     "name": "stdout",
     "output_type": "stream",
     "text": [
      "PrivateScalar(10, 'alice')\n",
      "PrivateScalar(0, 'alice')\n"
     ]
    }
   ],
   "source": [
    "def relu(shared_x):\n",
    "    if (shared_x > 0).value: \n",
    "        return shared_x\n",
    "    return 0 * shared_x\n",
    "\n",
    "shared_x = PrivateScalar(10, alice).share([alice, bob])\n",
    "\n",
    "shared_relu_x = relu(shared_x)\n",
    "shared_relu_neg_x = relu(-1 * shared_x)\n",
    "\n",
    "print(shared_relu_x.reconstruct(alice))\n",
    "print(shared_relu_neg_x.reconstruct(alice))"
   ]
  },
  {
   "cell_type": "markdown",
   "metadata": {},
   "source": [
    "### Floating Point Numbers\n",
    "\n",
    "最後に、実際のアプリケーションでは、浮動小数点数でSMPCを使いたいと思うかもしれません。これは可能です！\n",
    "\n",
    "SharedScalar`と加法的秘密分散は一般的に整数でしか動作しないので、浮動小数点数を固定小数点整数表現に最初に変換する必要があることを思い出してください。\n",
    "\n",
    "その方法を見てみよう。"
   ]
  },
  {
   "cell_type": "code",
   "execution_count": 18,
   "metadata": {},
   "outputs": [],
   "source": [
    "from tinysmpc.fixed_point import fixed_point, float_point"
   ]
  },
  {
   "cell_type": "code",
   "execution_count": 19,
   "metadata": {},
   "outputs": [
    {
     "data": {
      "text/plain": [
       "(500000, -50000, 5, -5)"
      ]
     },
     "execution_count": 19,
     "metadata": {},
     "output_type": "execute_result"
    }
   ],
   "source": [
    "fixed_point(0.005), fixed_point(-0.0005), fixed_point(0.00000005), fixed_point(-0.00000005)"
   ]
  },
  {
   "cell_type": "markdown",
   "metadata": {},
   "source": [
    "おわかりのように、TinySMPCは驚くほどシンプルな固定小数点表現を使っている。小数点以下8桁の精度を保つために、浮動小数点数を `10^8` 倍することで整数にマッピングしている。\n",
    "\n",
    "浮動小数点数を取り戻すには、`float_point()`を使えばいい。"
   ]
  },
  {
   "cell_type": "code",
   "execution_count": 20,
   "metadata": {},
   "outputs": [
    {
     "data": {
      "text/plain": [
       "(0.005, -0.0005, 5e-08, -5e-08)"
      ]
     },
     "execution_count": 20,
     "metadata": {},
     "output_type": "execute_result"
    }
   ],
   "source": [
    "float_point(500000), float_point(-50000), float_point(5), float_point(-5)"
   ]
  },
  {
   "cell_type": "markdown",
   "metadata": {},
   "source": [
    "では、実際に見てみよう："
   ]
  },
  {
   "cell_type": "code",
   "execution_count": 21,
   "metadata": {},
   "outputs": [
    {
     "name": "stdout",
     "output_type": "stream",
     "text": [
      "SharedScalar\n",
      " - Share(-4115897540309803162, 'alice', Q=None)\n",
      " - Share(4115897540433253162, 'bob', Q=None)\n"
     ]
    },
    {
     "data": {
      "text/plain": [
       "(44.44355556, 44.44355556)"
      ]
     },
     "execution_count": 21,
     "metadata": {},
     "output_type": "execute_result"
    }
   ],
   "source": [
    "a = fixed_point(1.2345)\n",
    "b = fixed_point(-5.4321)\n",
    "\n",
    "shared_a = PrivateScalar(a, alice).share([alice, bob])\n",
    "shared_b = PrivateScalar(b, bob).share([alice, bob])\n",
    "print(shared_a)\n",
    "true_res = (-5.4321 - 1.2345) ** 2\n",
    "shared_res = (shared_b - shared_a) ** 2\n",
    "res = shared_res.reconstruct(alice)\n",
    "res = float_point(res.value, n_mults=1)\n",
    "\n",
    "res, true_res"
   ]
  },
  {
   "cell_type": "markdown",
   "metadata": {},
   "source": [
    "うまくいく！\n",
    "\n",
    "大きな免責事項：固定小数点エンコーディングは、説明されていない `n_mults` パラメータからわかるように、動作が微妙です。変換係数やオーバーフローを注意深く考慮しなければ、正しくない結果を見ることになるでしょう。\n",
    "\n",
    "優れたSMPCライブラリであれば、**透過的に**浮動小数点数を変換して処理してくれます。TinySMPCのソースコードをシンプルで読みやすいものにするために、この実装はやめました。\n",
    "\n",
    "しかし、SMPCがどのように浮動小数点数を扱うことができるのか、その核心的なコンセプトはご理解いただけたと思います！"
   ]
  },
  {
   "cell_type": "markdown",
   "metadata": {},
   "source": [
    "### Arbitrary Functions\n",
    "\n",
    "これらのツールを使えば、より複雑な関数を計算することもできる。例えば、テイラー級数を使って `exp()` 関数を計算することができる。\n",
    "\n",
    "これは読者のための練習として残しておこう。"
   ]
  },
  {
   "cell_type": "markdown",
   "metadata": {},
   "source": [
    "## Limitations\n",
    "\n",
    "TinySMPCはプロダクションSMPCライブラリになることを意図していないため、いくつかの重要な機能が省かれています。\n",
    "\n",
    " - SharedScalars`の分割。これは可能ですが、実装は複雑です（[SecureNN 論文](https://eprint.iacr.org/2018/442.pdf) のアルゴリズム 8 を参照してください）。\n",
    " - SharedScalars`の比較。これも可能だが、実装は複雑である。\n",
    " - SharedScalars`は浮動小数点数を透過的に扱えない。\n",
    " - ベクトル化の欠如、数学ライブラリの欠如など。\n",
    "\n",
    "一般的なプロトコルとしてのSMPCの限界についても話す必要がある。\n",
    "\n",
    "- SMPCは、すべての参加者が正直に正しい局所計算を適用することを前提としています。もしその気になれば、結果の値を変更することは些細なことです。これは「[honestly-but-curious](https://crypto.stanford.edu/pbc/notes/crypto/sfe.html)」仮定と呼ばれることもあります。完全性を提供する[SMPCの拡張](https://mortendahl.github.io/2017/08/13/secret-sharing-part3/)がある。\n",
    "- これは、すべての参加者がオンラインであることを要求します。1台のマシンが故障すると、計算や復号を続けることができない。この問題を解決する拡張もある(「k-out-of-n secret sharing 」で検索)。\n",
    "- ネットワークと同じくらい遅い！1回の乗算に、すべてのコンピュータ間で数回の往復メッセージが必要です。理想的には、マシンが高速なローカルネットワーク上に配置されていることが望ましいのですが、SMPCの実際の使用例の多くは、マシンが公共のインターネット上で分離されています。SMPCアルゴリズムは多くの場合、必要な通信量に基づいて評価されます。"
   ]
  },
  {
   "cell_type": "markdown",
   "metadata": {},
   "source": [
    "## Recap\n",
    "\n",
    "要約すると、SMPCは複数の人が関数を計算できるようにするもので、関数そのものとその出力は公開されるが、入力は各人に秘密にされる。\n",
    "\n",
    "TinySMPCは、暗号化されたシークレットシェアを生成し、その暗号化されたデータに対して直接計算を行うという、コアとなるビルディングブロックを実装しています。\n",
    "\n",
    "以下は、TinySMPCが提供する暗号化された操作の概要です。\n",
    "\n",
    "|                    | Supported?              | Implementation                                                                          |\n",
    "|--------------------|-------------------------|-----------------------------------------------------------------------------------------|\n",
    "| **Addition**       | ✅                       | [SPDZ](https://eprint.iacr.org/2011/535.pdf) algorithm. <br/> See [shared_addition.py](https://github.com/kennysong/tinysmpc/blob/master/tinysmpc/shared_addition.py)             |\n",
    "| **Subtraction**    | ✅                       | In terms of addition and multiplication.                                                 |\n",
    "| **Multiplication** | ✅                       | [SPDZ](https://eprint.iacr.org/2011/535.pdf) algorithm.  <br/> See [shared_multiplication.py](https://github.com/kennysong/tinysmpc/blob/master/tinysmpc/shared_multiplication.py) |\n",
    "| **Division**       | ❌ (too complicated)     | Possible with [SecureNN](https://eprint.iacr.org/2018/442.pdf).                                                                                       |\n",
    "| **Exponentiation**       | ✅ (public integer only)     | In terms of multiplication.                                                                                       |\n",
    "| **Greater Than**   | ✅ (public integer only) | [SecureNN](https://eprint.iacr.org/2018/442.pdf) algorithm. <br/> See [shared_comparison.py](https://github.com/kennysong/tinysmpc/blob/master/tinysmpc/shared_comparison.py)     |\n",
    "\n",
    "次は何をする？\n",
    "\n",
    "これはハイレベルなチュートリアルだった。これらのプロトコルが舞台裏でどのように動いているのかを理解したいのであれば、[TinySMPCのソースコード](https://github.com/kennysong/tinysmpc)をチェックすることをお勧めする！TinySMPCは、できるだけ小さく、理解しやすいように書かれています。\n",
    "\n",
    "もしSMPCを実運用、特に機械学習に使いたいのであれば、[PySyft](https://github.com/OpenMined/PySyft/)と[TF Encrypted](https://github.com/tf-encrypted/tf-encrypted)を見ることをお勧めします。これらは、ベクトル化/テンソル化、高レベルの数学とMLのAPI、透過的な浮動小数点数変換などの便利な機能を実装しています。"
   ]
  }
 ],
 "metadata": {
  "kernelspec": {
   "display_name": "Python 3",
   "language": "python",
   "name": "python3"
  },
  "language_info": {
   "codemirror_mode": {
    "name": "ipython",
    "version": 3
   },
   "file_extension": ".py",
   "mimetype": "text/x-python",
   "name": "python",
   "nbconvert_exporter": "python",
   "pygments_lexer": "ipython3",
   "version": "3.10.14"
  }
 },
 "nbformat": 4,
 "nbformat_minor": 4
}
